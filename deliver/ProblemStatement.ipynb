{
 "cells": [
  {
   "cell_type": "markdown",
   "metadata": {},
   "source": [
    "## Real Estate Prediction\n",
    "\n",
    "The objective is to assist the REIT (Real Estate Investment Trust) to **predict the fair market / transaction price of a property** before it's sold.\n",
    "\n",
    "**Current Solution**: Using apprarisers to estimate the price of a property. The inexperience apprarisers were off by $70K.\n",
    "\n",
    "**New Solution**: Use the old data and build a model to predict the fair market/transaction  price with average error under $70K."
   ]
  },
  {
   "cell_type": "markdown",
   "metadata": {},
   "source": [
    "* Deliverable: Model\n",
    "* Machine Learning Task : Regression\n",
    "* Target Variable: transaction price\n",
    "* Win condition: Avg prediction error < $70,000"
   ]
  },
  {
   "cell_type": "code",
   "execution_count": null,
   "metadata": {
    "collapsed": true
   },
   "outputs": [],
   "source": []
  }
 ],
 "metadata": {
  "anaconda-cloud": {},
  "kernelspec": {
   "display_name": "Python [conda root]",
   "language": "python",
   "name": "conda-root-py"
  },
  "language_info": {
   "codemirror_mode": {
    "name": "ipython",
    "version": 2
   },
   "file_extension": ".py",
   "mimetype": "text/x-python",
   "name": "python",
   "nbconvert_exporter": "python",
   "pygments_lexer": "ipython2",
   "version": "2.7.12"
  }
 },
 "nbformat": 4,
 "nbformat_minor": 1
}
